{
  "nbformat": 4,
  "nbformat_minor": 0,
  "metadata": {
    "colab": {
      "name": "常见leetcode解题套路.ipynb",
      "provenance": [],
      "collapsed_sections": [],
      "authorship_tag": "ABX9TyPqVVEhQPVNfLW0hSeenCTM",
      "include_colab_link": true
    },
    "kernelspec": {
      "name": "python3",
      "display_name": "Python 3"
    },
    "language_info": {
      "name": "python"
    }
  },
  "cells": [
    {
      "cell_type": "markdown",
      "metadata": {
        "id": "view-in-github",
        "colab_type": "text"
      },
      "source": [
        "<a href=\"https://colab.research.google.com/github/dk-wei/data-structures-algo-leetcode/blob/main/%E5%B8%B8%E8%A7%81leetcode%E8%A7%A3%E9%A2%98%E5%A5%97%E8%B7%AF.ipynb\" target=\"_parent\"><img src=\"https://colab.research.google.com/assets/colab-badge.svg\" alt=\"Open In Colab\"/></a>"
      ]
    },
    {
      "cell_type": "markdown",
      "metadata": {
        "id": "KoPNgXEX5BoE"
      },
      "source": [
        "# Matrix Grid问题\n",
        "\n",
        "nested list常常被用来表示matrix，虽然numpy array是更好的方法...        \n",
        "我们可以用`enumertate`函数来得到matrix的坐标"
      ]
    },
    {
      "cell_type": "code",
      "metadata": {
        "colab": {
          "base_uri": "https://localhost:8080/"
        },
        "id": "bR1hhhxA5JWL",
        "outputId": "b1e446cc-a9b4-4a05-f949-f1ec621d9a40"
      },
      "source": [
        "grid = [\n",
        "        [4,3,2,-1],\n",
        "        [3,2,1,-1],\n",
        "        [1,1,-1,-2],\n",
        "        [-1,-1,-2,-3]\n",
        "        ]\n",
        "\n",
        "for (i,row) in enumerate(grid):\n",
        "  for (j,value) in enumerate(row):\n",
        "    print ([i,j],value)"
      ],
      "execution_count": 1,
      "outputs": [
        {
          "output_type": "stream",
          "text": [
            "[0, 0] 4\n",
            "[0, 1] 3\n",
            "[0, 2] 2\n",
            "[0, 3] -1\n",
            "[1, 0] 3\n",
            "[1, 1] 2\n",
            "[1, 2] 1\n",
            "[1, 3] -1\n",
            "[2, 0] 1\n",
            "[2, 1] 1\n",
            "[2, 2] -1\n",
            "[2, 3] -2\n",
            "[3, 0] -1\n",
            "[3, 1] -1\n",
            "[3, 2] -2\n",
            "[3, 3] -3\n"
          ],
          "name": "stdout"
        }
      ]
    },
    {
      "cell_type": "code",
      "metadata": {
        "colab": {
          "base_uri": "https://localhost:8080/"
        },
        "id": "Nfu9ZmVV5JRu",
        "outputId": "606b308f-6cda-42d3-8901-2c8694aeb89a"
      },
      "source": [
        "# 打印对角线元素\n",
        "for (i,row) in enumerate(grid):\n",
        "  for (j,value) in enumerate(row):\n",
        "    if i == j:\n",
        "      print ([i,j],value)"
      ],
      "execution_count": 2,
      "outputs": [
        {
          "output_type": "stream",
          "text": [
            "[0, 0] 4\n",
            "[1, 1] 2\n",
            "[2, 2] -1\n",
            "[3, 3] -3\n"
          ],
          "name": "stdout"
        }
      ]
    },
    {
      "cell_type": "code",
      "metadata": {
        "id": "LF1Ja5Ra5JOm"
      },
      "source": [
        ""
      ],
      "execution_count": null,
      "outputs": []
    },
    {
      "cell_type": "code",
      "metadata": {
        "id": "tLPFAOlg44Om"
      },
      "source": [
        ""
      ],
      "execution_count": null,
      "outputs": []
    }
  ]
}