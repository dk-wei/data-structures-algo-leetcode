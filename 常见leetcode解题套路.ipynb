{
  "nbformat": 4,
  "nbformat_minor": 0,
  "metadata": {
    "colab": {
      "name": "常见leetcode解题套路.ipynb",
      "provenance": [],
      "collapsed_sections": [],
      "authorship_tag": "ABX9TyNfiANiZT5XpOVR6LSil1cp",
      "include_colab_link": true
    },
    "kernelspec": {
      "name": "python3",
      "display_name": "Python 3"
    },
    "language_info": {
      "name": "python"
    }
  },
  "cells": [
    {
      "cell_type": "markdown",
      "metadata": {
        "id": "view-in-github",
        "colab_type": "text"
      },
      "source": [
        "<a href=\"https://colab.research.google.com/github/dk-wei/data-structures-algo-leetcode/blob/main/%E5%B8%B8%E8%A7%81leetcode%E8%A7%A3%E9%A2%98%E5%A5%97%E8%B7%AF.ipynb\" target=\"_parent\"><img src=\"https://colab.research.google.com/assets/colab-badge.svg\" alt=\"Open In Colab\"/></a>"
      ]
    },
    {
      "cell_type": "markdown",
      "metadata": {
        "id": "6Bw2CVN6gNLN"
      },
      "source": [
        "# Sliding Window\n",
        "\n",
        "将array按照一定的`window_size`进行chunk.有两种情况：     \n",
        "\n",
        "\n",
        "情况1 (有重叠)：`[1,2,3,4,5,6,6,7,7]` -> `[[1, 2, 3], [2, 3, 4], [3, 4, 5], [4, 5, 6], [5, 6, 6], [6, 6, 7], [6, 7, 7]]`"
      ]
    },
    {
      "cell_type": "code",
      "metadata": {
        "colab": {
          "base_uri": "https://localhost:8080/"
        },
        "id": "3yltfMfhgMb5",
        "outputId": "e65c4285-8417-4584-b031-08a1ce2300d5"
      },
      "source": [
        "arr = [1,2,3,4,5,6,6,7,7]\n",
        "\n",
        "def sliding_window(arr, window_size):\n",
        "  res = []\n",
        "\n",
        "  # 此处不需要用enumerate\n",
        "  for i in range(len(arr)):\n",
        "      res.append(arr[i:i+window_size])\n",
        "\n",
        "  res = [i for i in res if len(i)>window_size-1]\n",
        "\n",
        "  return res\n",
        "\n",
        "sliding_window(arr, 3)"
      ],
      "execution_count": 2,
      "outputs": [
        {
          "output_type": "execute_result",
          "data": {
            "text/plain": [
              "[[1, 2, 3], [2, 3, 4], [3, 4, 5], [4, 5, 6], [5, 6, 6], [6, 6, 7], [6, 7, 7]]"
            ]
          },
          "metadata": {
            "tags": []
          },
          "execution_count": 2
        }
      ]
    },
    {
      "cell_type": "markdown",
      "metadata": {
        "id": "oRzNGNl1i6bi"
      },
      "source": [
        "情况2 (无重叠)：`[1,2,3,4,5,6,6,7,7]` -> `[[1, 2, 3], [4, 5, 6], [6, 7, 7], [8, 9]]`"
      ]
    },
    {
      "cell_type": "code",
      "metadata": {
        "colab": {
          "base_uri": "https://localhost:8080/"
        },
        "id": "JVeOCAp1itc6",
        "outputId": "6bd682df-0850-44e3-8816-75e2042d9a8d"
      },
      "source": [
        "arr = [1,2,3,4,5,6,6,7,7,8,9]\n",
        "\n",
        "def sliding_window(arr, window_size):\n",
        "  res = []\n",
        "  for i in range(len(arr)//window_size+1):\n",
        "      res.append(arr[3*i:3*i+window_size])\n",
        "\n",
        "  res = [i for i in res if len(i)>0]\n",
        "\n",
        "  return res\n",
        "\n",
        "sliding_window(arr, 3)"
      ],
      "execution_count": 3,
      "outputs": [
        {
          "output_type": "execute_result",
          "data": {
            "text/plain": [
              "[[1, 2, 3], [4, 5, 6], [6, 7, 7], [8, 9]]"
            ]
          },
          "metadata": {
            "tags": []
          },
          "execution_count": 3
        }
      ]
    },
    {
      "cell_type": "markdown",
      "metadata": {
        "id": "KoPNgXEX5BoE"
      },
      "source": [
        "# Matrix Grid问题\n",
        "\n",
        "nested list常常被用来表示matrix，虽然numpy array是更好的方法...        \n",
        "我们可以用`enumertate`函数来得到matrix的坐标"
      ]
    },
    {
      "cell_type": "code",
      "metadata": {
        "colab": {
          "base_uri": "https://localhost:8080/"
        },
        "id": "bR1hhhxA5JWL",
        "outputId": "b1e446cc-a9b4-4a05-f949-f1ec621d9a40"
      },
      "source": [
        "grid = [\n",
        "        [4,3,2,-1],\n",
        "        [3,2,1,-1],\n",
        "        [1,1,-1,-2],\n",
        "        [-1,-1,-2,-3]\n",
        "        ]\n",
        "\n",
        "for (i,row) in enumerate(grid):\n",
        "  for (j,value) in enumerate(row):\n",
        "    print ([i,j],value)"
      ],
      "execution_count": null,
      "outputs": [
        {
          "output_type": "stream",
          "text": [
            "[0, 0] 4\n",
            "[0, 1] 3\n",
            "[0, 2] 2\n",
            "[0, 3] -1\n",
            "[1, 0] 3\n",
            "[1, 1] 2\n",
            "[1, 2] 1\n",
            "[1, 3] -1\n",
            "[2, 0] 1\n",
            "[2, 1] 1\n",
            "[2, 2] -1\n",
            "[2, 3] -2\n",
            "[3, 0] -1\n",
            "[3, 1] -1\n",
            "[3, 2] -2\n",
            "[3, 3] -3\n"
          ],
          "name": "stdout"
        }
      ]
    },
    {
      "cell_type": "code",
      "metadata": {
        "colab": {
          "base_uri": "https://localhost:8080/"
        },
        "id": "Nfu9ZmVV5JRu",
        "outputId": "606b308f-6cda-42d3-8901-2c8694aeb89a"
      },
      "source": [
        "# 打印对角线元素\n",
        "for (i,row) in enumerate(grid):\n",
        "  for (j,value) in enumerate(row):\n",
        "    if i == j:\n",
        "      print ([i,j],value)"
      ],
      "execution_count": null,
      "outputs": [
        {
          "output_type": "stream",
          "text": [
            "[0, 0] 4\n",
            "[1, 1] 2\n",
            "[2, 2] -1\n",
            "[3, 3] -3\n"
          ],
          "name": "stdout"
        }
      ]
    },
    {
      "cell_type": "markdown",
      "metadata": {
        "id": "FVVA5G1ifiFp"
      },
      "source": [
        "# Greatest Common Divisor 最大公约数问题\n",
        "\n",
        "参考；[gcd() in Python](https://www.geeksforgeeks.org/gcd-in-python/)      \n",
        "参考；[leetcode 914](https://leetcode.com/problems/x-of-a-kind-in-a-deck-of-cards/)\n",
        "\n",
        "方法挺多的，最简单的可以直接调用`math`library。\n",
        "\n"
      ]
    },
    {
      "cell_type": "code",
      "metadata": {
        "id": "LF1Ja5Ra5JOm"
      },
      "source": [
        "# recursive 递归方法\n",
        "\n",
        "# Python code to demonstrate naive\n",
        "# method to compute gcd ( recursion )\n",
        "  \n",
        "def hcfnaive(a,b):\n",
        "    if(b==0):\n",
        "        return a\n",
        "    else:\n",
        "        return hcfnaive(b,a%b)\n",
        "    print(a, b)"
      ],
      "execution_count": null,
      "outputs": []
    },
    {
      "cell_type": "code",
      "metadata": {
        "colab": {
          "base_uri": "https://localhost:8080/"
        },
        "id": "tLPFAOlg44Om",
        "outputId": "68e645c2-e7ea-4f6b-816b-845e884f65fd"
      },
      "source": [
        "hcfnaive(160,48)\n",
        "\n",
        "#一直求mod，交换位置，直到mod出现0，也就是可以整除, 然后返回a\n",
        "#160 48\n",
        "#48 16\n",
        "#16 0"
      ],
      "execution_count": null,
      "outputs": [
        {
          "output_type": "execute_result",
          "data": {
            "text/plain": [
              "16"
            ]
          },
          "metadata": {
            "tags": []
          },
          "execution_count": 6
        }
      ]
    },
    {
      "cell_type": "code",
      "metadata": {
        "colab": {
          "base_uri": "https://localhost:8080/"
        },
        "id": "NEaW1Vk7f0NY",
        "outputId": "431e92b8-181c-4bdd-e44b-2aba57fc8dc3"
      },
      "source": [
        "hcfnaive(9,5)\n",
        "\n",
        "#一直求mod，直到mod出现0，也就是可以整除， 可以看出对质数的求解效率不高\n",
        "#9 5\n",
        "#5 4\n",
        "#4 3\n",
        "#3 2\n",
        "#2 1\n",
        "#1 0 "
      ],
      "execution_count": null,
      "outputs": [
        {
          "output_type": "execute_result",
          "data": {
            "text/plain": [
              "1"
            ]
          },
          "metadata": {
            "tags": []
          },
          "execution_count": 7
        }
      ]
    },
    {
      "cell_type": "markdown",
      "metadata": {
        "id": "QGDc1AlrHnNW"
      },
      "source": [
        "# While的使用\n",
        "\n",
        "一般情况下，挨个遍历，无论是index还是具体的element，基本上`for loop`都能搞定了。                     \n",
        "下面有些例子while更适合：\n",
        "1. 如果说遍历的index是变动的，则一定需要while loop：\n",
        "\n",
        "例如遇到某些情况，需要跳过element：\n",
        "\n",
        "```python\n",
        "i = 0\n",
        "\n",
        "while i < max:\n",
        "  \n",
        "  # 特殊情况下，挑两格，平时跳一格就行\n",
        "  if condition:\n",
        "    process(x)\n",
        "    i+=2\n",
        "    \n",
        "  else:\n",
        "    i+=1\n",
        "```\n",
        "\n",
        "2. while loop是一个自循环体系，只要没`return False`, 就会一直循环下去。而且不仅仅只是用来做数字的循环，还能做别的条件的判断：            \n",
        "例如:       \n",
        "[leetcode 1436. Destination City](https://leetcode.com/problems/destination-city/)\n",
        "\n",
        "```python\n",
        "class Solution:\n",
        "    def destCity(self, paths: List[List[str]]) -> str:\n",
        "        \n",
        "        path_dict = dict(paths)\n",
        "        city = paths[0][0]\n",
        "        \n",
        "        # 每个循环都会查看city是否存在于path_dict，不存在的话则会跳出循环\n",
        "        while city in path_dict:\n",
        "            city = path_dict[city]\n",
        "            print(city)\n",
        "            \n",
        "        return city\n",
        "```"
      ]
    },
    {
      "cell_type": "markdown",
      "metadata": {
        "id": "ISuaRj43DucR"
      },
      "source": [
        "# Tic Toc Toe 赢家判定\n",
        "[leetcode 1275](https://leetcode.com/problems/find-winner-on-a-tic-tac-toe-game/)              \n",
        "这题可以很难，我们可以搞定对现有形式的判别就行了\n",
        "\n",
        "`moves = [[0,0],[1,1],[2,0],[1,0],[1,2],[2,1],[0,1],[0,2],[2,2]]`\n",
        "\n",
        "```python\n",
        "class Solution:\n",
        "    def tictactoe(self, moves: List[List[int]]) -> str:\n",
        "        #board = [[0,0,0]]*3   #这个broadcast，是错误的, 一旦改变其中一个值，别的值也会跟着变化，只能用下列的笨办法\n",
        "        board = [[0,0,0], [0,0,0], [0,0,0]]\n",
        "        \n",
        "        # 根据moves生产board棋盘\n",
        "        for i, v in enumerate(moves):\n",
        "            if i%2 == 0:\n",
        "                board[v[0]][v[1]] = 'x'\n",
        "                \n",
        "            else:\n",
        "                board[v[0]][v[1]] = 'y'\n",
        "            #print(board)\n",
        "        print(board)\n",
        "        \n",
        "        # 查看row\n",
        "        # 这个相对简单，每个sublist遍历，出现同款的就报winner\n",
        "        winner = []\n",
        "        for i in board:\n",
        "            if len(set(i)) == 1:\n",
        "                winner.append(i[0])\n",
        "                \n",
        "        # 查看col\n",
        "        # col查看稍显复杂，必须用到enumerate，其最终i2才是col number，注意每个格子的值为board[i1][i2]\n",
        "        col_dict = {0:[],1:[],2:[]}\n",
        "        for i1, v2 in enumerate(board):\n",
        "            for i2, v2 in  enumerate(v2):\n",
        "                col_dict[i2].append(board[i1][i2])\n",
        "                \n",
        "        print(col_dict)\n",
        "        \n",
        "        # 判断赢家的方法大同小异，哪个lisi全是一样的值就是赢家 \n",
        "        winner = []\n",
        "        for i in col_dict.values():\n",
        "            if len(set(i)) == 1:\n",
        "                winner.append(i[0])\n",
        "            \n",
        "        # 查看diag\n",
        "        # i1 == i2或者i1 + i2==2就放入候选dict，继续对候选dict每个value进行判定\n",
        "        diag_dict = {0:[],1:[]}\n",
        "        for i1, v2 in enumerate(board):\n",
        "            for i2, v2 in  enumerate(v2):\n",
        "                if i1 == i2:\n",
        "                    diag_dict[0].append(board[i1][i2]) \n",
        "                    \n",
        "                if i1 + i2 == 2:\n",
        "                    diag_dict[1].append(board[i1][i2]) \n",
        "        print(diag_dict)\n",
        "        \n",
        "        winner = []\n",
        "        for i in diag_dict.values():\n",
        "            if len(set(i)) == 1:\n",
        "                winner.append(i[0])\n",
        "                \n",
        "        winner = ['A' if i =='x' else 'B' for i in winner]\n",
        "        print(winner)\n",
        "        \n",
        "        \n",
        "        if winner!=[]:\n",
        "            return winner[0]\n",
        "        elif winner==[]:\n",
        "            if len(moves) == 9:\n",
        "                return 'Draw'\n",
        "            elif len(moves) < 9:\n",
        "                return 'Pending'\n",
        "```\n",
        "\n",
        "部分输出结果:\n",
        "```\n",
        "[['x', 'x', 'y'], ['y', 'y', 'x'], ['x', 'y', 'x']]\n",
        "{0: ['x', 'y', 'x'], 1: ['x', 'y', 'y'], 2: ['y', 'x', 'x']}\n",
        "{0: ['x', 'y', 'x'], 1: ['y', 'y', 'x']}\n",
        "[]\n",
        "```\n",
        "\n",
        "            \n",
        "\n",
        "        "
      ]
    },
    {
      "cell_type": "markdown",
      "metadata": {
        "id": "-nuynOwZpF74"
      },
      "source": [
        "# Next Greater Element (Stack)\n",
        "\n",
        "讲解视频1：[链接](https://www.youtube.com/watch?v=vXpqZFuY3oY&t=259s)     \n",
        "讲解视频2：[链接](https://www.youtube.com/watch?v=sDKpIO2HGq0)\n",
        "\n",
        "遍历nums数组，\n",
        "1. 当stack为空或者当前元素小于stack顶元素时，该数append\n",
        "2. 当前元素大于stack顶元素时，stack顶元素pop，该元素为stack顶元素的下一个更大元素，用dict保存，继续和stack顶元素比较，直到1的情况，进行1的操作\n",
        "3. 遍历findNums，找出该元素在dict中对应的值，若不在dict中，用-1代替，存入结果数组\n",
        "\n",
        "我他妈也不知道这个算法有效, 应该就是每次append的值是pop的值的NGE\n",
        "\n"
      ]
    },
    {
      "cell_type": "code",
      "metadata": {
        "id": "MetJM2R1Lqqr",
        "colab": {
          "base_uri": "https://localhost:8080/"
        },
        "outputId": "44842ed7-a375-4760-d2d6-f535730ce4d7"
      },
      "source": [
        "s = [13,7,6,12,10, 15]\n",
        "\n",
        "stack = []\n",
        "NGE = {}\n",
        "\n",
        "for i in s:\n",
        "  while len(stack) != 0 and stack[-1] < i:\n",
        "    k = stack.pop()\n",
        "    NGE[k] = i\n",
        "  stack.append(i)\n",
        "\n",
        "  print(\"Stack:\", stack,\"NGE:\", NGE)"
      ],
      "execution_count": null,
      "outputs": [
        {
          "output_type": "stream",
          "text": [
            "Stack: [13] NGE: {}\n",
            "Stack: [13, 7] NGE: {}\n",
            "Stack: [13, 7, 6] NGE: {}\n",
            "Stack: [13, 12] NGE: {6: 12, 7: 12}\n",
            "Stack: [13, 12, 10] NGE: {6: 12, 7: 12}\n",
            "Stack: [15] NGE: {6: 12, 7: 12, 10: 15, 12: 15, 13: 15}\n"
          ],
          "name": "stdout"
        }
      ]
    },
    {
      "cell_type": "markdown",
      "metadata": {
        "id": "kmlAkYxRyJyf"
      },
      "source": [
        "# 从某点开始删除左边"
      ]
    },
    {
      "cell_type": "code",
      "metadata": {
        "id": "JsLoyF41Lqnc",
        "colab": {
          "base_uri": "https://localhost:8080/"
        },
        "outputId": "5fdcc6b2-00a3-4160-cef8-4cb03c7423fe"
      },
      "source": [
        "input_data = ['#','#',1,2,3,4]\n",
        "\n",
        "from itertools import dropwhile\n",
        "\n",
        "#input_data = [\"0\", \"0\", \"1\", \"1\", \"0\", \"0\", \"1\", \"0\", \"1\", \"0\", \"0\", \"0\"]\n",
        "\n",
        "def predicate(x):\n",
        "    return x == '#'\n",
        "\n",
        "result = list(dropwhile(predicate, list(dropwhile(predicate, input_data))[::-1]))[::-1]\n",
        "result\n"
      ],
      "execution_count": null,
      "outputs": [
        {
          "output_type": "execute_result",
          "data": {
            "text/plain": [
              "[1, 2, 3, 4]"
            ]
          },
          "metadata": {
            "tags": []
          },
          "execution_count": 14
        }
      ]
    },
    {
      "cell_type": "markdown",
      "metadata": {
        "id": "yj7RfEXjy-S-"
      },
      "source": [
        "# 动态规划 Dynamic Programming\n",
        "\n",
        "讲解视频：[九章算法【动态规划专题班】动态规划入门](https://www.youtube.com/watch?v=j4eab7N3Hfs&t=3850s)       \n",
        "参考资料 1：[DynamicProgramming动态规划整理](http://www.shataowei.com/2019/09/05/DynamicProgramming%E5%8A%A8%E6%80%81%E8%A7%84%E5%88%92%E6%95%B4%E7%90%86/)        \n",
        "参考资料 2：[告别动态规划，连刷 40 道题，我总结了这些套路](https://www.zhihu.com/column/p/91582909)\n",
        "\n",
        "需要三部分：\n",
        "1. Initial State\n",
        "  - `f[1] = 1`\n",
        "  - `f[2] = 2`\n",
        "2. Transition Function:\n",
        "  - `f[n] = f(n-1) + f(n-2)`\n",
        "  -  `f[n] = min(f(n-1) + 1, f(n-2) + 1)`\n",
        "\n",
        "  ![](https://lh3.googleusercontent.com/ikCnzAEKCocLm2CFHcxDdL7wVZATVLDn7zwTkbO_fC_ONcUSpEzy3u3HrsYYwsiSG968OUDYqrpEFcatIaTmAPDEjzYa2fcUG0HkuBk-U2jdA5uRhkgnvtVD8OCDlk213e9rAqfQqvM1KzQfm2pGol4wAMr4S72-qP0vhUMNe98AE6juLcImGLSnuc2yufWGZ3WFF6O3GX6zahNo5914bDzLFFLdGzn3PrkLiBpaCyBmKy4_dlhYGkvfwMXr6IVRjjdko9rghItvIovgl910LqIJ24DpcGL3YhdWX_EPmNUlA4w53rvkMmCHipAraFr1BM06-SaMPRML836dvkx7rgTWJJS2Ca9WUuQkpP824ZhQTcDh76ncf-B0CYU0U_8AZ13cdiIkxOL9utHG7ZCA3G9mEkFOONwd8MlOaexzm3x8FgyBKOc5y364I-pA4Y7jKhEaaXbJ7XE-F6IjSUVc0FlVW-32zThffGJyGnfrNElBhM7ZYOjXkGOUmX2zZChc-r67_MErvNuCCnrvqeyTfoSCXgvnwBQJIs6kmhh1hn-tGNIvAWj66l3YKbkMC-gC8AghW37ugk2pOn1YKemRuk_vZV_8XDtM4pYziEs5RCGviKYz4HOzeEcDVgA5brcoGCa_K6MtPBG_36rQySSS4z6VJVeII3H5fivTAJdP7mjtYkNX77V5DZs5aU4E_iGxYUoETRec63avS0oc22lMiiOHQw=w1334-h750-no?authuser=0)\n",
        "  ![](https://lh3.googleusercontent.com/kSIbpgeQsgjmbLIgeM1ob7S_Z-qiUHVozFH6RxfZGI84JrTZaP3wU0lt386GbhNMc_X1vcwVPwubyF92DYIEduvFQVev_gMdhDVx4enN8mpMgrq7tG2E3h5v8oJaCkGNN_p4IvQtMP2T2NCPUc9FOStMolfTbEMXqKR179I8h0Cs8kUAfonGhS8NRzhWs-xl6D9SR2SYaWFPD2mGCYIE5EzcW5PzpbvBrk4hSjDJovSKCTom3RN1CVeQFhiew91EfxCROj3rjTrvLzDBPE-RgYTyupqribVlSaRSmw5H0KSq_KaFqGOvmKKbLMW2GdOaHMw7esRcjA-c88tlGfsYZMw_lJX-gUBvmd_JrO0G4GOpQ16jwwcyHDW9nWnNer2V0X0pGNMjCmaLJ2XoLWQp0QlZd0KyEyEUk8mkuGBpMmnQ89XN0wsa6rblZQR-TwC7p4_NSIVxB353SN-h5nHb5yYmFOP9dLRxOsJCNVKbAhAqg9orpDyr3D1vbt31RHdpSoijXav0bANcrQA8Yn8Nm0Z-Yt41UPzs5-2_84Aa3V40uo6N_23PWMDbPBB1ZvY-BfkLaG6bS8IGv_M65akVHYbs29-vLoUKq7kaL_LGeC6DKBVjPy38EIzsChklMeBFUe07VIVyN2jej2AJIbf-sr4z6NLyiHSUiWxfw_l5AERggJ7Ig27rsa_9anNbh-KRtqbur9nV5sKRuoA6K7r6AeK29w=w1334-h750-no?authuser=0)\n",
        "\n",
        "\n",
        "**所谓的f(n)和dp(n)指的都是在位置n的当前最优解**\n",
        "\n",
        "下面是总结的一些leetcode的transition function：\n",
        "\n",
        "- 一维度：       \n",
        "  1. 53 最大子序和,状态方程是:`dp[i] = max(dp[i-1]+nums[i],nums[i]) #加还是不加num[i]，是一个问题`          \n",
        "  2. 70 爬楼梯,状态方程是:`dp[i]=dp[i-1]+dp[i-2]`            \n",
        "  3. 198 打家劫舍,状态方程是:`dp[i] = max(dp[i-3],dp[i-2])+nums[i]` \n",
        "  4. 322 零钱问题,状态方程是:`dp[i] = min(dp[i-5]+1, dp[i-2]+1, dp[i-1]+1)\n",
        "  5. 746 最小爬楼梯成本,状态方程是：`dp[i] = min(cost[i] + dp[i-1], dp[i-2]+cost[i])`            \n",
        "\n",
        "- 高维度：       \n",
        "  1. 120 三角形最小路径和,状态方程是:`dp[k][z] = min((dp[k-1][z]+triangle[k][z]),(dp[k-1][z-1]+triangle[k][z]))`              \n",
        "  2. 63 不同路径 II,状态方程是:`dp[i][j] = dp[i][j - 1] + dp[i - 1][j]`             \n",
        "  3. 64 最小路径和,状态方程是:`mat[i][j] = min(mat[i - 1][j], mat[i][j - 1]) + grid[i][j]`                     \n",
        "  4. 221 最大正方形,状态方程是:`dp[i][j] = min(dp[i - 1][j], dp[i][j - 1], dp[i - 1][j - 1]) + 1`\n"
      ]
    },
    {
      "cell_type": "markdown",
      "metadata": {
        "id": "SZAzwnNee_yX"
      },
      "source": [
        "先来看看一维度一些问题的代码：\n",
        "\n",
        "198. House Robber     \n",
        "```python\n",
        "class Solution:\n",
        "    def rob(self, nums: List[int]) -> int:\n",
        "        dp = {}\n",
        "        if len(nums) == 0:\n",
        "            return 0\n",
        "        if len(nums) <= 2:\n",
        "            return max(nums)\n",
        "        dp[0] = nums[0]\n",
        "        dp[1] = nums[1]\n",
        "        dp[2] = max(nums[0]+ nums[2], nums[1])\n",
        "        for i in range(3, len(nums)):\n",
        "            dp[i] = nums[i] + max(dp[i-2], dp[i-3])\n",
        "            print(i, dp)\n",
        "        return max(dp.values())\n",
        "  ```\n",
        "\n",
        "  746. Min Cost Climbing Stairs\n",
        "\n",
        "  ```python\n",
        "  class Solution:\n",
        "    def minCostClimbingStairs(self, cost: List[int]) -> int:\n",
        "           \n",
        "        '''\n",
        "        代码来源：https://www.tutorialspoint.com/min-cost-climbing-stairs-in-python\n",
        "        '''\n",
        "        dp = {}\n",
        "        dp[0] = cost[0]\n",
        "        if len(cost) >= 2:\n",
        "            dp[1] = cost[1]\n",
        "\n",
        "        for i in range(2, len(cost)):\n",
        "            # 站在每一个cost的位置上，要么前一个前一个dp加上这个cost，或者钱钱一个dp加上这个cost\n",
        "            dp[i] = min(cost[i] + dp[i-1], dp[i-2]+cost[i])\n",
        "                        \n",
        "        return min(dp[len(cost)-1], dp[len(cost)-2])\n",
        "```\n",
        "\n",
        "53. Maximum Subarray\n",
        "\n",
        "  ```python\n",
        " class Solution:\n",
        "    def maxSubArray(self, nums: List[int]) -> int:\n",
        "        '''\n",
        "        这个思路还是很奇妙\n",
        "        dp[i]就是到i位，最优的情况，也就是max subarray\n",
        "        讲解博文：http://www.codeinn.net/misctech/17542.html\n",
        "        \n",
        "        '''\n",
        "        dp={}\n",
        "        dp[0] = nums[0]\n",
        "        for i in range(1, len(nums)):\n",
        "            dp[i]=max(dp[i-1]+nums[i], nums[i]) \n",
        "\n",
        "        return max(dp.values())\n",
        "  ```\n",
        "\n",
        "\n",
        "  **从中可以总结出`DP`一些细节上的规律：**\n",
        "  1. `dp`本质上就是个数学归纳法，最重要的就是transition function，也就是`dp[n]`与之前的`dp[n-1], num[n]`等等的关系\n",
        "  2. `dp`的意思是是当前位置最好的情形，如果把题目改为当前位置，也是能拿得出手的\n",
        "  3. `dp[0]`和nums的位置一致，一般就是要遍历的`nums[0]`或者`cost[0]`\n",
        "  4. 开始遍历的初始位置一般为上面代码定义的初始位置+1     \n",
        "    a. 例如：定义了`dp[0] = nums[0]`， `dp[1]=nums[1]`, 后序遍历便从2开始，就是`for i in range(2, len(nums))`         \n",
        "    b. 最后遍历的长度就是len(nums)\n",
        "  5. 最后要求的可能不是`dp[-1]`，也有可能是`min(dp)`或者`max(dp)`这种"
      ]
    },
    {
      "cell_type": "code",
      "metadata": {
        "id": "FyQgZV9zLqjr"
      },
      "source": [
        "\n"
      ],
      "execution_count": null,
      "outputs": []
    },
    {
      "cell_type": "code",
      "metadata": {
        "id": "FK_6eQYaLqgo"
      },
      "source": [
        ""
      ],
      "execution_count": null,
      "outputs": []
    },
    {
      "cell_type": "code",
      "metadata": {
        "id": "9YTBEIBiLqdx"
      },
      "source": [
        ""
      ],
      "execution_count": null,
      "outputs": []
    },
    {
      "cell_type": "code",
      "metadata": {
        "id": "fp7C_t5SLqa7"
      },
      "source": [
        ""
      ],
      "execution_count": null,
      "outputs": []
    },
    {
      "cell_type": "code",
      "metadata": {
        "id": "93aPJNPqLqXy"
      },
      "source": [
        ""
      ],
      "execution_count": null,
      "outputs": []
    },
    {
      "cell_type": "code",
      "metadata": {
        "id": "Cx1eYWTOLqUO"
      },
      "source": [
        ""
      ],
      "execution_count": null,
      "outputs": []
    },
    {
      "cell_type": "code",
      "metadata": {
        "id": "nYmS0fkRLqRB"
      },
      "source": [
        ""
      ],
      "execution_count": null,
      "outputs": []
    },
    {
      "cell_type": "code",
      "metadata": {
        "id": "hEcHAaBMLqOJ"
      },
      "source": [
        ""
      ],
      "execution_count": null,
      "outputs": []
    },
    {
      "cell_type": "code",
      "metadata": {
        "id": "Elp4WSErLqK1"
      },
      "source": [
        ""
      ],
      "execution_count": null,
      "outputs": []
    },
    {
      "cell_type": "code",
      "metadata": {
        "id": "V_v3hDLeLqHv"
      },
      "source": [
        ""
      ],
      "execution_count": null,
      "outputs": []
    },
    {
      "cell_type": "code",
      "metadata": {
        "id": "lx-VVmkGLqFG"
      },
      "source": [
        ""
      ],
      "execution_count": null,
      "outputs": []
    },
    {
      "cell_type": "code",
      "metadata": {
        "id": "TxfHA6sngUBL"
      },
      "source": [
        ""
      ],
      "execution_count": null,
      "outputs": []
    }
  ]
}