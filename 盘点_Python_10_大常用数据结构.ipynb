{
  "nbformat": 4,
  "nbformat_minor": 0,
  "metadata": {
    "colab": {
      "name": "盘点 Python 10 大常用数据结构.ipynb",
      "provenance": [],
      "collapsed_sections": [],
      "authorship_tag": "ABX9TyPU8g+4LwCoSU2QRpYeDgy9",
      "include_colab_link": true
    },
    "kernelspec": {
      "name": "python3",
      "display_name": "Python 3"
    },
    "language_info": {
      "name": "python"
    }
  },
  "cells": [
    {
      "cell_type": "markdown",
      "metadata": {
        "id": "view-in-github",
        "colab_type": "text"
      },
      "source": [
        "<a href=\"https://colab.research.google.com/github/dk-wei/data-structures-algo-leetcode/blob/main/%E7%9B%98%E7%82%B9_Python_10_%E5%A4%A7%E5%B8%B8%E7%94%A8%E6%95%B0%E6%8D%AE%E7%BB%93%E6%9E%84.ipynb\" target=\"_parent\"><img src=\"https://colab.research.google.com/assets/colab-badge.svg\" alt=\"Open In Colab\"/></a>"
      ]
    },
    {
      "cell_type": "markdown",
      "metadata": {
        "id": "khnW6iyMMEX8"
      },
      "source": [
        "来源blog: [盘点 Python 10 大常用数据结构](https://cloud.tencent.com/developer/article/1673184)\n",
        "\n",
        "![](https://ask.qcloudimg.com/http-save/yehe-1478933/br3fkughir.png?imageView2/2/w/1620)\n",
        "\n",
        "**学习目的**\n",
        "这个专题，尽量使用最精简的文字，借助典型案例盘点Python常用的数据结构。\n",
        "\n",
        "如果你还处于Python入门阶段，通常只需掌握`list`、`tuple`、`set`、`dict`这类数据结构，做到灵活使用即可。\n",
        "\n",
        "然而，随着学习的深入，平时遇到实际场景变复杂，很有必要去了解Python内置的更加强大的数据结构`deque`、`heapq`、`Counter`、`OrderedDict`、`defaultDict`、`ChainMap`，掌握它们，往往能让你少写一些代码且能更加高效的实现功能。\n",
        "\n",
        "**学习目标**\n",
        "学习数据结构第一阶段：掌握它们的基本用法，使用它们解决一些基本问题；\n",
        "\n",
        "学习第二阶段：知道何种场景选用哪种最恰当的数据结构，去解决题问题；\n",
        "\n",
        "学习第三阶段：了解内置数据结构的背后源码实现，与《算法和数据结构》这门学问里的知识联系起来，打通任督二脉。\n",
        "\n",
        "\n",
        "下面根据定义的这三个阶段，总结以下10种最常用的数据结构：\n",
        "\n",
        "- List/Stack：能干几乎所有的活，只是很多情况下有更优解。适合按照位置索引，LIFO 后进先出，`append` + `pop`\n",
        "- deque：适合前后增`append`减`pop`元素, 大杀器，一个人干了queue和stack的活，只是相对比较耗费内存- tuple：适合不增减元素\n",
        "- dict：适合按key查询\n",
        "- set：适合去重\n",
        "- Counter：适合统计计数\n",
        "- OrderedDict：适合按顺序排列key，并且索引\n",
        "- heapq/binary tree：为list创建二叉树，适合排序, 插入\n",
        "- defaultdict：查询不存在的key也不会报错，自动初始化\n",
        "- Chainmap：合并多个dict\n",
        "- Binary tree (Optional): 二叉树，本质上，是对链表和数组的一个折中. 在链表中，插入、删除速度很快，但查找速度较慢。在数组中，查找速度很快，但插入删除速度很慢。为了解决这个问题，找寻一种能够在**插入、删除、查找、遍历**等操作都相对快的容器，于是人们发明了二叉树。\n",
        "\n"
      ]
    },
    {
      "cell_type": "markdown",
      "metadata": {
        "id": "tweQfUU1O5JN"
      },
      "source": [
        "# list/stack (LIFO)\n",
        "\n",
        "\n",
        "**基本用法** 废话不多说，在前面单独有一个专题详述了list的使用【添加文章链接】\n",
        "\n",
        "**使用场景** list 是个🧱，哪里需要哪里搬，可以添加，可以删除，可以查询，可以修改，几乎无所不能。但是其实在很多情况下都不是最好的选择。List适合使用在需要根据index查询、修改的场景，极不擅长需要频繁插入、删除元素的场景，这些个场景中`deque`，`stack`，`dictionary`是更好的选择。\n",
        "\n",
        "实现原理 list对应数据结构的线性表，列表长度在初始状态时无需指定，当插入元素超过初始长度后再启动动态扩容，删除时尤其位于列表开始处元素，时间复杂度为O(n)\n"
      ]
    },
    {
      "cell_type": "markdown",
      "metadata": {
        "id": "mpNpszgy9R5f"
      },
      "source": [
        "python中的list和stack其实是可以通用的\n",
        "![](https://media.geeksforgeeks.org/wp-content/cdn-uploads/gq/2013/03/stack.png)\n",
        "\n",
        "**Stack** (LIFO)常用操作：\n",
        "\n",
        "- `push(g)/append(g)` – Adds the element ‘g’ at the top of the stack – Time Complexity : O(1)\n",
        "- `pop()` – Deletes the top most element of the stack – Time Complexity : O(1)\n",
        "Implementation\n",
        "- `empty()` – Returns whether the stack is empty – Time Complexity : O(1)\n",
        "- `size()/len()` – Returns the size of the stack – Time Complexity : O(1)\n",
        "- `top()/peek()` – Returns a reference to the top most element of the stack – Time Complexity : O(1)\n",
        "\n",
        "**Stack**可以解决的一些问题：\n",
        "- 判断balanced parentheses，左右两边括号相等\n",
        "- binary/hex convertor\n",
        "- infix to postfix\n"
      ]
    },
    {
      "cell_type": "code",
      "metadata": {
        "colab": {
          "base_uri": "https://localhost:8080/"
        },
        "id": "dUWNLiXZQVyx",
        "outputId": "72d217ed-aa6d-44aa-d271-e061c9b660a9"
      },
      "source": [
        "l = [3,4,5,6]\n",
        "l.append(8)\n",
        "l"
      ],
      "execution_count": null,
      "outputs": [
        {
          "output_type": "execute_result",
          "data": {
            "text/plain": [
              "[3, 4, 5, 6, 8]"
            ]
          },
          "metadata": {
            "tags": []
          },
          "execution_count": 45
        }
      ]
    },
    {
      "cell_type": "code",
      "metadata": {
        "colab": {
          "base_uri": "https://localhost:8080/"
        },
        "id": "WxVCZ7K_QZad",
        "outputId": "c707a2f3-0bc2-4b80-e995-94e8d3abfed7"
      },
      "source": [
        "l.pop(), l.pop()  # 后进先pop，尽显stack本色"
      ],
      "execution_count": null,
      "outputs": [
        {
          "output_type": "execute_result",
          "data": {
            "text/plain": [
              "(8, 6)"
            ]
          },
          "metadata": {
            "tags": []
          },
          "execution_count": 46
        }
      ]
    },
    {
      "cell_type": "code",
      "metadata": {
        "colab": {
          "base_uri": "https://localhost:8080/"
        },
        "id": "b4R5vGlyRyKQ",
        "outputId": "1cae194c-35ab-4341-d8b4-1a84d7ffb082"
      },
      "source": [
        "l.insert(1,100)   # 最好不要用insert，这样每个元素都要向后移动一位，很耗费资源\n",
        "l"
      ],
      "execution_count": null,
      "outputs": [
        {
          "output_type": "execute_result",
          "data": {
            "text/plain": [
              "[3, 100, 4, 5, 6]"
            ]
          },
          "metadata": {
            "tags": []
          },
          "execution_count": 43
        }
      ]
    },
    {
      "cell_type": "markdown",
      "metadata": {
        "id": "dSUqs6uxD88f"
      },
      "source": [
        "# Queue (FIFO)\n",
        "\n",
        "其实Queue更符合直觉，就好像排队一样，先到先得，先到先走(FIFO)\n",
        "![](https://media.geeksforgeeks.org/wp-content/cdn-uploads/gq/2014/02/Queue.png)\n",
        "\n",
        "- `Enqueue`: Adds an item to the queue. If the queue is full, then it is said to be an Overflow condition – Time Complexity : O(1)\n",
        "- `Dequeue`: Removes an item from the queue. The items are popped in the same order in which they are pushed. If the queue is empty, then it is said to be an Underflow condition – Time Complexity : O(1)\n",
        "- `Front`: Get the front item from queue – Time Complexity : O(1)\n",
        "- `Rear`: Get the last item from queue – Time Complexity : O(1)\n",
        "- `Size`: return size of queue\n",
        "- `isEmpty`\n",
        " "
      ]
    },
    {
      "cell_type": "code",
      "metadata": {
        "id": "D0fJBuHkD8Q3"
      },
      "source": [
        ""
      ],
      "execution_count": null,
      "outputs": []
    },
    {
      "cell_type": "markdown",
      "metadata": {
        "id": "xAon-8ypTulQ"
      },
      "source": [
        "# tuple\n",
        "\n",
        "当list表的值固定的适合，其实tuple是更好的选择，tuple是一类不允许添加删除元素的特殊列表，也就是一旦创建后续决不允许增加、删除、修改, **而且还有个特点就是占用内存小**。\n",
        "\n",
        "基本用法 元组大量使用在打包和解包处，如函数有多个返回值时打包为一个元组，赋值到等号左侧变量时解包。"
      ]
    },
    {
      "cell_type": "code",
      "metadata": {
        "colab": {
          "base_uri": "https://localhost:8080/"
        },
        "id": "48zFVooEMCJZ",
        "outputId": "5e9f6a45-063b-4cea-92ca-be0c3aa9d4e3"
      },
      "source": [
        "t=1,2,3                                         \n",
        "type(t)                             "
      ],
      "execution_count": null,
      "outputs": [
        {
          "output_type": "execute_result",
          "data": {
            "text/plain": [
              "tuple"
            ]
          },
          "metadata": {
            "tags": []
          },
          "execution_count": 4
        }
      ]
    },
    {
      "cell_type": "markdown",
      "metadata": {
        "id": "ECI3G85rULjC"
      },
      "source": [
        "**使用场景** 如果非常确定你的对象后面不会被修改，则可以大胆使用元组。为什么？因为相比于list, tuple实例更加节省内存，这点尤其重要。"
      ]
    },
    {
      "cell_type": "code",
      "metadata": {
        "colab": {
          "base_uri": "https://localhost:8080/"
        },
        "id": "mkaq9zfLMCFs",
        "outputId": "6c8530ee-dd82-4984-a22f-70161d27ba20"
      },
      "source": [
        "from sys import getsizeof               \n",
        "\n",
        "getsizeof(list()), getsizeof(tuple())     "
      ],
      "execution_count": null,
      "outputs": [
        {
          "output_type": "execute_result",
          "data": {
            "text/plain": [
              "(72, 56)"
            ]
          },
          "metadata": {
            "tags": []
          },
          "execution_count": 27
        }
      ]
    },
    {
      "cell_type": "markdown",
      "metadata": {
        "id": "34M3mS7XUaBw"
      },
      "source": [
        "所以创建100个实例，tuple能节省1K多字节。"
      ]
    },
    {
      "cell_type": "markdown",
      "metadata": {
        "id": "KcvN04GzUceL"
      },
      "source": [
        "# set\n",
        "\n",
        "**基本用法** set是一种里面不能含有重复元素的数据结构，这种特性天然的使用于列表的去重。\n",
        "\n"
      ]
    },
    {
      "cell_type": "code",
      "metadata": {
        "colab": {
          "base_uri": "https://localhost:8080/"
        },
        "id": "HO96krIqUb9q",
        "outputId": "779cb103-2b1b-4b88-d396-c2fd3c341613"
      },
      "source": [
        "a=[3,2,5,2,5,3]               \n",
        "set(a) "
      ],
      "execution_count": null,
      "outputs": [
        {
          "output_type": "execute_result",
          "data": {
            "text/plain": [
              "{2, 3, 5}"
            ]
          },
          "metadata": {
            "tags": []
          },
          "execution_count": 7
        }
      ]
    },
    {
      "cell_type": "markdown",
      "metadata": {
        "id": "sfDBoY2SUlHo"
      },
      "source": [
        "除此之外，还有知道set结构可用于两个set实例的求交集、并集、差集等操作。"
      ]
    },
    {
      "cell_type": "code",
      "metadata": {
        "colab": {
          "base_uri": "https://localhost:8080/"
        },
        "id": "d66WJu-HMCDK",
        "outputId": "75c97831-f282-42f5-ae66-a0b117b10ea9"
      },
      "source": [
        "a = {2,3,5}   \n",
        "b = {3,4,6,2}   \n",
        "a.intersection(b) # 求交集      "
      ],
      "execution_count": null,
      "outputs": [
        {
          "output_type": "execute_result",
          "data": {
            "text/plain": [
              "{2, 3}"
            ]
          },
          "metadata": {
            "tags": []
          },
          "execution_count": 8
        }
      ]
    },
    {
      "cell_type": "markdown",
      "metadata": {
        "id": "MDF98VCXUymk"
      },
      "source": [
        "**使用场景** 如果只是想缓存某些元素值，且要求元素值不能重复时，适合选用此结构。并且set内允许增删元素，且效率很高。\n",
        "\n",
        "实现原理 set在内部将值哈希为索引，然后按照索引去获取数据，因此删除、增加、查询元素效果都很高"
      ]
    },
    {
      "cell_type": "markdown",
      "metadata": {
        "id": "fkfznHNBVQkb"
      },
      "source": [
        "# dict/hashmap\n",
        "\n",
        "基本用法 `dict` 是Python中使用最频繁的数据结构之一，字典创建由通过dict函数、{}写法、字典生成式等，增删查元素效率都很高。"
      ]
    },
    {
      "cell_type": "code",
      "metadata": {
        "colab": {
          "base_uri": "https://localhost:8080/"
        },
        "id": "FQ7e04bXUx3w",
        "outputId": "abe08074-7f28-473e-e88d-98eb4d5b68af"
      },
      "source": [
        "d = {'a':1,'b':2} # {}创建字典\n",
        "d['c']=3\n",
        "d"
      ],
      "execution_count": null,
      "outputs": [
        {
          "output_type": "execute_result",
          "data": {
            "text/plain": [
              "{'a': 1, 'b': 2, 'c': 3}"
            ]
          },
          "metadata": {
            "tags": []
          },
          "execution_count": 12
        }
      ]
    },
    {
      "cell_type": "code",
      "metadata": {
        "colab": {
          "base_uri": "https://localhost:8080/"
        },
        "id": "xwTnoFKfMCAW",
        "outputId": "fa060831-6706-4d57-e2b5-b5f4da2adac3"
      },
      "source": [
        "# 列表生成式\n",
        "d = {a:b for a,b in zip(['a','b'],[1,2])}     \n",
        "d"
      ],
      "execution_count": null,
      "outputs": [
        {
          "output_type": "execute_result",
          "data": {
            "text/plain": [
              "{'a': 1, 'b': 2}"
            ]
          },
          "metadata": {
            "tags": []
          },
          "execution_count": 11
        }
      ]
    },
    {
      "cell_type": "markdown",
      "metadata": {
        "id": "q6DxtHF0VpOC"
      },
      "source": [
        "**使用场景** **字典尤其适合在key查询多的场景，而list适合index查询多的场景**，字典时间复杂度为O(1). 如leetcode第一题求解两数之和时，就会使用到dict的O(1)查询时间复杂度。\n",
        "\n",
        "同时，Python类中属性值等信息也都是缓存在__dict__这个字典型数据结构中。\n",
        "\n",
        "但是值得注意，**dict占用字节数是list、tuple的3、4倍**，因此对内存要求苛刻的场景要慎重考虑。"
      ]
    },
    {
      "cell_type": "code",
      "metadata": {
        "colab": {
          "base_uri": "https://localhost:8080/"
        },
        "id": "TdCqP8e0MB9X",
        "outputId": "6c5440b1-a13a-4657-8940-c99708eebea3"
      },
      "source": [
        "getsizeof(dict())  "
      ],
      "execution_count": null,
      "outputs": [
        {
          "output_type": "execute_result",
          "data": {
            "text/plain": [
              "248"
            ]
          },
          "metadata": {
            "tags": []
          },
          "execution_count": 13
        }
      ]
    },
    {
      "cell_type": "markdown",
      "metadata": {
        "id": "zcVgX7M8YQ2Y"
      },
      "source": [
        "实现原理 字典是一种哈希表，同时保存了键值对。\n",
        "\n",
        "以上4种数据结构相信大家都已经比较熟悉，因此我言简意赅的介绍一遍。接下来再详细的介绍下面6种数据结构及各自使用场景，会列举更多的例子。"
      ]
    },
    {
      "cell_type": "markdown",
      "metadata": {
        "id": "QFwXbjsVY4oA"
      },
      "source": [
        "# deque\n",
        "**基本用法** deque 双端队列是一个大杀器，基于list优化了列表两端的增删数据操作，相当于一个数据结构干了queue和stack两者的活。但是相对的要耗费更多内存。\n",
        "\n",
        "基本用法：\n",
        "\n",
        "Insertion\n",
        "- `append(item)`: Add an item to the right end.\n",
        "- `appendleft(item)`: Add an item to the left end.\n",
        "- `insert(index, value)`: Add an element with the specified value at the given index.\n",
        "- `extend(list)`: This function is used to insert multiple values at the right end. It takes a list of values as an argument.\n",
        "- `extendleft(list)`: This function is similar to extend(), but it reverses the list of values passed as the argument and then appends that list to the left end of the deque.\n",
        "\n",
        "Deletion\n",
        "- `pop()`: Remove an element from the right end.\n",
        "- `popleft()`: Remove an element from the left end.\n",
        "- `remove(value)`: Remove the first occurrence of the mentioned value.\n",
        "\n",
        "Miscellaneous\n",
        "- `count(value)`: Return the total number of occurrences of the given value.\n",
        "- `index(e, start, end)`: Search the given element from start to finish​ and return the index of the first occurrence.\n",
        "- `rotate(n)`: Rotate the deque nn number of times. A positive value rotates it to the right, while a negative value rotates it to the left.\n",
        "- `reverse()`: Reverse the order of the deque.\n",
        "\n",
        "可以有下列用途：\n",
        "- Palindrome-checker   判断对称string"
      ]
    },
    {
      "cell_type": "code",
      "metadata": {
        "id": "ICZOwDU_cBsx"
      },
      "source": [
        "from collections import deque"
      ],
      "execution_count": null,
      "outputs": []
    },
    {
      "cell_type": "code",
      "metadata": {
        "id": "lePKY84HSqga"
      },
      "source": [
        "d = deque([3,2,4,0])  "
      ],
      "execution_count": null,
      "outputs": []
    },
    {
      "cell_type": "code",
      "metadata": {
        "colab": {
          "base_uri": "https://localhost:8080/"
        },
        "id": "7tSzgPNYSuI0",
        "outputId": "2be20980-fe46-41dd-f2de-c5ff4b5b57f0"
      },
      "source": [
        "d.popleft(), d.popleft()   # 左侧移除元素，O(1)时间复杂度，FIFO 先进先出，尽显queue本色"
      ],
      "execution_count": null,
      "outputs": [
        {
          "output_type": "execute_result",
          "data": {
            "text/plain": [
              "(3, 2)"
            ]
          },
          "metadata": {
            "tags": []
          },
          "execution_count": 64
        }
      ]
    },
    {
      "cell_type": "code",
      "metadata": {
        "colab": {
          "base_uri": "https://localhost:8080/"
        },
        "id": "O-Hn9iG9S7Lq",
        "outputId": "9a98de54-709f-4669-eddf-5ccf24036713"
      },
      "source": [
        "d.appendleft(33), d.appendleft(35) # 左侧再往更左侧添加元素，O(1)时间复杂度 \n",
        "d"
      ],
      "execution_count": null,
      "outputs": [
        {
          "output_type": "execute_result",
          "data": {
            "text/plain": [
              "deque([35, 33, 4, 0])"
            ]
          },
          "metadata": {
            "tags": []
          },
          "execution_count": 65
        }
      ]
    },
    {
      "cell_type": "code",
      "metadata": {
        "colab": {
          "base_uri": "https://localhost:8080/"
        },
        "id": "kyszLZsiMB63",
        "outputId": "d333e986-71f4-4ada-c354-2a2c5e8a90d3"
      },
      "source": [
        "d.pop(), d.pop()   # 继续先进先pop"
      ],
      "execution_count": null,
      "outputs": [
        {
          "output_type": "execute_result",
          "data": {
            "text/plain": [
              "(0, 4)"
            ]
          },
          "metadata": {
            "tags": []
          },
          "execution_count": 66
        }
      ]
    },
    {
      "cell_type": "markdown",
      "metadata": {
        "id": "XBus9OPTaNWK"
      },
      "source": [
        "移除了deque两边的元素。这个比list快很多，因为list一旦移动一个元素，所有元素也得跟着动"
      ]
    },
    {
      "cell_type": "code",
      "metadata": {
        "id": "k8EMO05Ba06R"
      },
      "source": [
        "from collections import deque\n",
        "\n",
        "l = list(range(100000000))"
      ],
      "execution_count": null,
      "outputs": []
    },
    {
      "cell_type": "code",
      "metadata": {
        "colab": {
          "base_uri": "https://localhost:8080/"
        },
        "id": "-j-mRlyjcvCo",
        "outputId": "ea6b6c53-170b-4ef0-b760-56e11be226b6"
      },
      "source": [
        "%%time\n",
        "l_again = l[1:]"
      ],
      "execution_count": null,
      "outputs": [
        {
          "output_type": "stream",
          "text": [
            "CPU times: user 4.1 s, sys: 32.7 ms, total: 4.13 s\n",
            "Wall time: 4.11 s\n"
          ],
          "name": "stdout"
        }
      ]
    },
    {
      "cell_type": "code",
      "metadata": {
        "colab": {
          "base_uri": "https://localhost:8080/"
        },
        "id": "HWS01ywCbAhK",
        "outputId": "49d63d25-9340-4ab2-930b-1e06d9411bde"
      },
      "source": [
        "%%time\n",
        "l.pop(0)"
      ],
      "execution_count": null,
      "outputs": [
        {
          "output_type": "stream",
          "text": [
            "CPU times: user 89.8 ms, sys: 970 µs, total: 90.7 ms\n",
            "Wall time: 90.2 ms\n"
          ],
          "name": "stdout"
        },
        {
          "output_type": "execute_result",
          "data": {
            "text/plain": [
              "0"
            ]
          },
          "metadata": {
            "tags": []
          },
          "execution_count": 19
        }
      ]
    },
    {
      "cell_type": "code",
      "metadata": {
        "id": "dongVVkDb8RF"
      },
      "source": [
        "d = deque(l) "
      ],
      "execution_count": null,
      "outputs": []
    },
    {
      "cell_type": "code",
      "metadata": {
        "colab": {
          "base_uri": "https://localhost:8080/"
        },
        "id": "lSUIe507MB38",
        "outputId": "ac07ada5-7ee2-4620-815f-403b3fe40a2b"
      },
      "source": [
        "%%time\n",
        "d.popleft()"
      ],
      "execution_count": null,
      "outputs": [
        {
          "output_type": "stream",
          "text": [
            "CPU times: user 2 µs, sys: 2 µs, total: 4 µs\n",
            "Wall time: 5.96 µs\n"
          ],
          "name": "stdout"
        },
        {
          "output_type": "execute_result",
          "data": {
            "text/plain": [
              "1"
            ]
          },
          "metadata": {
            "tags": []
          },
          "execution_count": 21
        }
      ]
    },
    {
      "cell_type": "code",
      "metadata": {
        "colab": {
          "base_uri": "https://localhost:8080/"
        },
        "id": "mKArL848CROw",
        "outputId": "dd92b721-a187-4643-90c2-99d9edd5187c"
      },
      "source": [
        "%%time\n",
        "d.appendleft(3)"
      ],
      "execution_count": null,
      "outputs": [
        {
          "output_type": "stream",
          "text": [
            "CPU times: user 2 µs, sys: 2 µs, total: 4 µs\n",
            "Wall time: 8.82 µs\n"
          ],
          "name": "stdout"
        }
      ]
    },
    {
      "cell_type": "markdown",
      "metadata": {
        "id": "2-xChqjYcdgQ"
      },
      "source": [
        "明显deque的`popleft()`和`appendleft(3)`相比list快了一个量级。如果要同时左端和右端都加减元素的话用deque明智很多。"
      ]
    },
    {
      "cell_type": "markdown",
      "metadata": {
        "id": "qIEVQslIC-5j"
      },
      "source": [
        "**使用场景** list左侧添加删除元素的时间复杂度都为O(n)，所以在Python模拟队列时切忌使用list，相反使用deque双端队列非常适合频繁在列表两端操作的场景。但是，加强版的deque牺牲了空间复杂度，我们可以看到`deque`相比之下很占空间，所以嵌套deque就要仔细trade-off:"
      ]
    },
    {
      "cell_type": "code",
      "metadata": {
        "colab": {
          "base_uri": "https://localhost:8080/"
        },
        "id": "5KO3thbnC9_6",
        "outputId": "9bd78bc1-7afa-4b03-a778-1530b5679b16"
      },
      "source": [
        "import sys\n",
        "\n",
        "sys.getsizeof(deque()), sys.getsizeof(list()) "
      ],
      "execution_count": null,
      "outputs": [
        {
          "output_type": "execute_result",
          "data": {
            "text/plain": [
              "(640, 72)"
            ]
          },
          "metadata": {
            "tags": []
          },
          "execution_count": 29
        }
      ]
    },
    {
      "cell_type": "markdown",
      "metadata": {
        "id": "RdnjH6fnDo7N"
      },
      "source": [
        "**实现原理** cpython实现deque使用默认长度64的数组，每次从左侧移除1个元素，leftindex加1，如果超过64释放原来的内存块，再重新申请64长度的数组，并使用双端链表block管理内存块。"
      ]
    },
    {
      "cell_type": "markdown",
      "metadata": {
        "id": "I9hzfp2QDum_"
      },
      "source": [
        "# Counter\n",
        "**基本用法** Counter一种继承于dict用于统计元素个数的数据结构，也称为bag 或 multiset. \n",
        "\n",
        "**基本用法：**"
      ]
    },
    {
      "cell_type": "code",
      "metadata": {
        "colab": {
          "base_uri": "https://localhost:8080/"
        },
        "id": "OBIJvTtjDoFj",
        "outputId": "71860b76-3f1f-4724-a611-89b9bda672c9"
      },
      "source": [
        "from collections import Counter\n",
        "\n",
        "c = Counter([1,3,2,3,4,2,2]) # 统计每个元素的出现次数\n",
        "\n",
        "c"
      ],
      "execution_count": null,
      "outputs": [
        {
          "output_type": "execute_result",
          "data": {
            "text/plain": [
              "Counter({1: 1, 2: 3, 3: 2, 4: 1})"
            ]
          },
          "metadata": {
            "tags": []
          },
          "execution_count": 106
        }
      ]
    },
    {
      "cell_type": "code",
      "metadata": {
        "colab": {
          "base_uri": "https://localhost:8080/"
        },
        "id": "XBdXiK6QMB1K",
        "outputId": "587eeec3-2653-47aa-b28f-a429f175329e"
      },
      "source": [
        "# 除此之外，还可以统计最常见的项\n",
        "# 如统计第1最常见的项，返回元素及其次数的元组\n",
        "\n",
        "c.most_common(1)   "
      ],
      "execution_count": null,
      "outputs": [
        {
          "output_type": "execute_result",
          "data": {
            "text/plain": [
              "[(2, 3)]"
            ]
          },
          "metadata": {
            "tags": []
          },
          "execution_count": 107
        }
      ]
    },
    {
      "cell_type": "code",
      "metadata": {
        "colab": {
          "base_uri": "https://localhost:8080/"
        },
        "id": "WcIwJ1pzqPGy",
        "outputId": "d2c506fb-19e6-49e9-bb2b-4b026a7a8a6f"
      },
      "source": [
        "c1 = Counter([1,3,2,3,4,2,2])\n",
        "c2 = Counter([1,3,2,5,4,2,2])\n",
        "\n",
        "c1+c2  # 这玩意儿厉害之处还在于可以同key的value进行运算"
      ],
      "execution_count": null,
      "outputs": [
        {
          "output_type": "execute_result",
          "data": {
            "text/plain": [
              "Counter({1: 2, 2: 6, 3: 3, 4: 2, 5: 1})"
            ]
          },
          "metadata": {
            "tags": []
          },
          "execution_count": 109
        }
      ]
    },
    {
      "cell_type": "markdown",
      "metadata": {
        "id": "C5iXusnDEIe4"
      },
      "source": [
        "**使用场景** 基本的dict能解决的问题就不要用Counter，但如遇到统计元素出现频次的场景，就不要自己去用dict实现了，果断选用Counter.\n",
        "\n",
        "需要注意，Counter统计的元素要求可哈希(hashable)，换句话说如果统计list的出现次数就不可行，不过list转化为tuple不就可哈希了吗.\n",
        "\n",
        "**实现原理** Counter实现基于dict，它将元素存储于keys上，出现次数为values.\n",
        "\n",
        "\n"
      ]
    },
    {
      "cell_type": "markdown",
      "metadata": {
        "id": "J3S4O2rNEQDP"
      },
      "source": [
        "# OrderedDict\n",
        "\n",
        "\n",
        "**基本用法** 继承于dict，能确保keys值按照顺序取出来的数据结构，基本用法："
      ]
    },
    {
      "cell_type": "code",
      "metadata": {
        "colab": {
          "base_uri": "https://localhost:8080/"
        },
        "id": "8hrMOJXZMBzN",
        "outputId": "6b4550b0-ba84-42fa-aa98-a73746e816a2"
      },
      "source": [
        "from collections import OrderedDict      \n",
        "\n",
        "od = OrderedDict({'c':3,'a':1,'b':2})  \n",
        "\n",
        "for k,v in od.items(): \n",
        "  print(k,v) "
      ],
      "execution_count": null,
      "outputs": [
        {
          "output_type": "stream",
          "text": [
            "c 3\n",
            "a 1\n",
            "b 2\n"
          ],
          "name": "stdout"
        }
      ]
    },
    {
      "cell_type": "markdown",
      "metadata": {
        "id": "rFuz3r05EiNM"
      },
      "source": [
        "**使用场景** 基本的dict无法保证顺序，keys映射为哈希值，而此值不是按照顺序存储在散列表中的。所以遇到要确保字典keys有序场景，就要使用OrderedDict.\n",
        "\n",
        "**实现原理** 你一定会好奇OrderedDict如何确保keys顺序的，翻看cpython看到它里面维护着一个双向链表self.__root，它维护着keys的顺序。既然使用双向链表，细心的读者可能会有疑问：删除键值对如何保证O(1)时间完成？\n",
        "\n",
        "cpython使用空间换取时间的做法，内部维护一个`self.__map`字典，键为key，值为指向双向链表节点的`link`. 这样在删除某个键值对时，通过`__map`在O(1)内找到link，然后O(1)内从双向链表`__root`中摘除。\n"
      ]
    },
    {
      "cell_type": "markdown",
      "metadata": {
        "id": "4o0ZqzT0Ev1Z"
      },
      "source": [
        "# heapq\n",
        "\n",
        "**基本用法** 基于list优化的一个数据结构：堆队列，也称为优先队列，其实就是二叉树 binary tree。堆队列特点在于最小的元素总是在根结点：heap[0] \n",
        "\n",
        "**基本用法：**  "
      ]
    },
    {
      "cell_type": "code",
      "metadata": {
        "colab": {
          "base_uri": "https://localhost:8080/"
        },
        "id": "VyLTYtwSMBvs",
        "outputId": "768706d4-eec2-4371-9a6e-78f3d8914850"
      },
      "source": [
        "import heapq\n",
        "\n",
        "a = [3,1,4,5,2,1,45,31,76,98,43,32]           \n",
        "heapq.heapify(a) # 对a建堆，建堆后完成对a的就地排序\n",
        "a   # a被转换成了heap，也就是二叉树"
      ],
      "execution_count": null,
      "outputs": [
        {
          "output_type": "execute_result",
          "data": {
            "text/plain": [
              "[1, 1, 3, 5, 2, 4, 45, 31, 76, 98, 43, 32]"
            ]
          },
          "metadata": {
            "tags": []
          },
          "execution_count": 98
        }
      ]
    },
    {
      "cell_type": "code",
      "metadata": {
        "colab": {
          "base_uri": "https://localhost:8080/"
        },
        "id": "EHxHxaIcYYPa",
        "outputId": "4bafc3cc-5d6c-4f26-9e1c-ccc849dcc54e"
      },
      "source": [
        "a[0]     # 二叉树中最左边永远是最小值，巨方便"
      ],
      "execution_count": null,
      "outputs": [
        {
          "output_type": "execute_result",
          "data": {
            "text/plain": [
              "1"
            ]
          },
          "metadata": {
            "tags": []
          },
          "execution_count": 99
        }
      ]
    },
    {
      "cell_type": "code",
      "metadata": {
        "colab": {
          "base_uri": "https://localhost:8080/"
        },
        "id": "bcWAF_eUYidu",
        "outputId": "0d438e2c-190f-427a-a122-262784e8289b"
      },
      "source": [
        "heapq.heappop(a)     # 直接pop掉最小值"
      ],
      "execution_count": null,
      "outputs": [
        {
          "output_type": "execute_result",
          "data": {
            "text/plain": [
              "1"
            ]
          },
          "metadata": {
            "tags": []
          },
          "execution_count": 100
        }
      ]
    },
    {
      "cell_type": "code",
      "metadata": {
        "colab": {
          "base_uri": "https://localhost:8080/"
        },
        "id": "C8fRb74PZOWT",
        "outputId": "8371cfe2-c32e-4c1d-e249-fc572f0a82f4"
      },
      "source": [
        "a"
      ],
      "execution_count": null,
      "outputs": [
        {
          "output_type": "execute_result",
          "data": {
            "text/plain": [
              "[1, 2, 3, 5, 32, 4, 45, 31, 76, 98, 43]"
            ]
          },
          "metadata": {
            "tags": []
          },
          "execution_count": 101
        }
      ]
    },
    {
      "cell_type": "code",
      "metadata": {
        "id": "nJGrqA1FZep3"
      },
      "source": [
        "heapq.heappush(a, 33)    # 把33添加到heap中, 也可以用于创建heap"
      ],
      "execution_count": null,
      "outputs": []
    },
    {
      "cell_type": "code",
      "metadata": {
        "colab": {
          "base_uri": "https://localhost:8080/"
        },
        "id": "tUqKo7-jZfvi",
        "outputId": "13e8634d-c2c9-4fb1-af64-321172528642"
      },
      "source": [
        "a"
      ],
      "execution_count": null,
      "outputs": [
        {
          "output_type": "execute_result",
          "data": {
            "text/plain": [
              "[1, 2, 3, 5, 32, 4, 45, 31, 76, 98, 43, 33]"
            ]
          },
          "metadata": {
            "tags": []
          },
          "execution_count": 103
        }
      ]
    },
    {
      "cell_type": "code",
      "metadata": {
        "colab": {
          "base_uri": "https://localhost:8080/"
        },
        "id": "lWpHiE-9Yu7M",
        "outputId": "23516a75-c3fc-4c87-9201-0e21054d4c85"
      },
      "source": [
        "heapq.heapreplace(a, 33)   # 把33添加到heap中，并且pop掉最小值\n",
        "a"
      ],
      "execution_count": null,
      "outputs": [
        {
          "output_type": "execute_result",
          "data": {
            "text/plain": [
              "[2, 5, 3, 31, 32, 4, 45, 33, 76, 98, 43, 33]"
            ]
          },
          "metadata": {
            "tags": []
          },
          "execution_count": 104
        }
      ]
    },
    {
      "cell_type": "code",
      "metadata": {
        "colab": {
          "base_uri": "https://localhost:8080/"
        },
        "id": "eQrWAVGHMBtD",
        "outputId": "2b08b8f0-af5d-4f6c-a260-8396e3a69df5"
      },
      "source": [
        "heapq.nlargest(3,a) # a的前3个最大元素   "
      ],
      "execution_count": null,
      "outputs": [
        {
          "output_type": "execute_result",
          "data": {
            "text/plain": [
              "[5, 4, 3]"
            ]
          },
          "metadata": {
            "tags": []
          },
          "execution_count": 69
        }
      ]
    },
    {
      "cell_type": "code",
      "metadata": {
        "colab": {
          "base_uri": "https://localhost:8080/"
        },
        "id": "QDpBmVL7MBqa",
        "outputId": "f62a4f46-015a-46a8-911f-35823256acda"
      },
      "source": [
        "heapq.nsmallest(3,a) # a的前3个最小元素     "
      ],
      "execution_count": null,
      "outputs": [
        {
          "output_type": "execute_result",
          "data": {
            "text/plain": [
              "[1, 1, 2]"
            ]
          },
          "metadata": {
            "tags": []
          },
          "execution_count": 70
        }
      ]
    },
    {
      "cell_type": "code",
      "metadata": {
        "colab": {
          "base_uri": "https://localhost:8080/"
        },
        "id": "tUSK-cbWYJVx",
        "outputId": "88bd4b5d-f92f-463c-92ef-316a7985a9c8"
      },
      "source": [
        ""
      ],
      "execution_count": null,
      "outputs": [
        {
          "output_type": "execute_result",
          "data": {
            "text/plain": [
              "1"
            ]
          },
          "metadata": {
            "tags": []
          },
          "execution_count": 71
        }
      ]
    },
    {
      "cell_type": "code",
      "metadata": {
        "colab": {
          "base_uri": "https://localhost:8080/"
        },
        "id": "RlbdSb9OMBof",
        "outputId": "6040b38f-756e-4782-a7c3-a1aab851b255"
      },
      "source": [
        "# seed the pseudorandom number generator\n",
        "from random import seed\n",
        "from random import sample\n",
        "# seed random number generator\n",
        "seed(1)\n",
        "\n",
        "l = sample(range(10000000), 10000000)\n",
        "l[:5]"
      ],
      "execution_count": null,
      "outputs": [
        {
          "output_type": "execute_result",
          "data": {
            "text/plain": [
              "[2254257, 9549656, 1058756, 4279348, 1978347]"
            ]
          },
          "metadata": {
            "tags": []
          },
          "execution_count": 7
        }
      ]
    },
    {
      "cell_type": "code",
      "metadata": {
        "colab": {
          "base_uri": "https://localhost:8080/"
        },
        "id": "nnU1UX1eMBlh",
        "outputId": "d05b41e4-1c5f-4ea5-83b8-28d1980c53cb"
      },
      "source": [
        "%%time\n",
        "min(l)"
      ],
      "execution_count": null,
      "outputs": [
        {
          "output_type": "stream",
          "text": [
            "CPU times: user 1.24 s, sys: 4.96 ms, total: 1.25 s\n",
            "Wall time: 1.24 s\n"
          ],
          "name": "stdout"
        },
        {
          "output_type": "execute_result",
          "data": {
            "text/plain": [
              "0"
            ]
          },
          "metadata": {
            "tags": []
          },
          "execution_count": 17
        }
      ]
    },
    {
      "cell_type": "code",
      "metadata": {
        "colab": {
          "base_uri": "https://localhost:8080/"
        },
        "id": "TvJcuZSNF9wO",
        "outputId": "192af752-1d30-49b7-8fe5-0d3222b187ce"
      },
      "source": [
        "%%time\n",
        "heapq.heapify(l)"
      ],
      "execution_count": null,
      "outputs": [
        {
          "output_type": "stream",
          "text": [
            "CPU times: user 2 s, sys: 10.1 ms, total: 2.01 s\n",
            "Wall time: 2 s\n"
          ],
          "name": "stdout"
        }
      ]
    },
    {
      "cell_type": "code",
      "metadata": {
        "colab": {
          "base_uri": "https://localhost:8080/"
        },
        "id": "41OhZUaVHHX2",
        "outputId": "208a4137-12e6-46d3-ac4a-6cedaff158d6"
      },
      "source": [
        "%%time\n",
        "l[0]"
      ],
      "execution_count": null,
      "outputs": [
        {
          "output_type": "stream",
          "text": [
            "CPU times: user 5 µs, sys: 0 ns, total: 5 µs\n",
            "Wall time: 8.11 µs\n"
          ],
          "name": "stdout"
        },
        {
          "output_type": "execute_result",
          "data": {
            "text/plain": [
              "0"
            ]
          },
          "metadata": {
            "tags": []
          },
          "execution_count": 19
        }
      ]
    },
    {
      "cell_type": "code",
      "metadata": {
        "colab": {
          "base_uri": "https://localhost:8080/"
        },
        "id": "ByS_edWSHXsS",
        "outputId": "c7338792-b64e-4dbe-a322-1e5f1dd252f3"
      },
      "source": [
        "l[-1]"
      ],
      "execution_count": null,
      "outputs": [
        {
          "output_type": "execute_result",
          "data": {
            "text/plain": [
              "6534124"
            ]
          },
          "metadata": {
            "tags": []
          },
          "execution_count": 20
        }
      ]
    },
    {
      "cell_type": "code",
      "metadata": {
        "colab": {
          "base_uri": "https://localhost:8080/"
        },
        "id": "Fbm0ygQKMBiz",
        "outputId": "cca64eb4-a5f9-4f86-d0dc-58f55ee1ab0f"
      },
      "source": [
        "%%time\n",
        "heapq.nlargest(3,l)"
      ],
      "execution_count": null,
      "outputs": [
        {
          "output_type": "stream",
          "text": [
            "CPU times: user 2.22 s, sys: 3.57 ms, total: 2.22 s\n",
            "Wall time: 2.23 s\n"
          ],
          "name": "stdout"
        },
        {
          "output_type": "execute_result",
          "data": {
            "text/plain": [
              "[9999999, 9999998, 9999997]"
            ]
          },
          "metadata": {
            "tags": []
          },
          "execution_count": 22
        }
      ]
    },
    {
      "cell_type": "markdown",
      "metadata": {
        "id": "2_Z-OvasJrca"
      },
      "source": [
        "**使用场景** 如果想要统计list中前几个最小(大)元素，那么使用heapq很方便，同时它还提供合并多个有序小list为大list的功能。\n",
        "\n",
        "**基本原理** 堆是一个二叉树，它的每个父节点的值都只会小于或大于所有孩子节点（的值），原理与堆排序极为相似。"
      ]
    },
    {
      "cell_type": "markdown",
      "metadata": {
        "id": "UGxMIGESJxDT"
      },
      "source": [
        "# defaultdict\n",
        "**基本用法** 一般地，当你尝试访问一个不在字典中的值时，将会抛出一个异常, 除非你当即赋值。但是defaultdict可以帮助我们初始化，它的参数作为default_factory. \n",
        "\n",
        "defaultdict是一种带有`default_factory`的dict，如果对设计模式不很了解的读者可能会很疑惑工厂这个词，准确来说工厂全称为对象工厂。下面体会它的基本用法。\n",
        "\n",
        "基本dict键的值没有一个默认数据类型，如果值为list，必须要手动创建："
      ]
    },
    {
      "cell_type": "code",
      "metadata": {
        "id": "iaUaetYsJrDz"
      },
      "source": [
        "words=['book','nice','great','book']\n",
        "d = {}\n",
        "for i,word in enumerate(words):\n",
        "    if word in d:\n",
        "        d[word].append(i)\n",
        "    else:\n",
        "        d[word]=[i] # 显示的创建一个list"
      ],
      "execution_count": null,
      "outputs": []
    },
    {
      "cell_type": "code",
      "metadata": {
        "id": "03ja5l-SJrAL"
      },
      "source": [
        "from collections import defaultdict\n",
        "d = defaultdict(list) # 创建字典值默认为list的字典\n",
        "for i,word in enumerate(words):\n",
        "    d[word] = i "
      ],
      "execution_count": null,
      "outputs": []
    },
    {
      "cell_type": "markdown",
      "metadata": {
        "id": "tkVfdNLiJ7Jv"
      },
      "source": [
        "省去一层if逻辑判断，代码更加清晰。上面defaultdict(list)这行代码默认创建值为list的字典，还可以构造defaultdict(set), defaultdict(dict)等等，这种模式就是对象工厂，工厂里能制造各种对象：list,set,dict...\n",
        "\n",
        "**使用场景** 上面已经说的很清楚，适用于键的值必须指定一个默认值的场景，如键的值为list,set,dict等。\n",
        "\n",
        "**实现原理** 基本原理就是调用工厂函数去提供缺失的键的值。后面设计模式专题再详细探讨。"
      ]
    },
    {
      "cell_type": "markdown",
      "metadata": {
        "id": "7asdhhzxJ-ua"
      },
      "source": [
        "# ChainMap\n",
        "基本用法 如果有多个dict想要合并为一个大dict，那么ChainMap将是你的选择，它的方便性体现在同步更改。具体来看例子："
      ]
    },
    {
      "cell_type": "code",
      "metadata": {
        "colab": {
          "base_uri": "https://localhost:8080/"
        },
        "id": "-z2UwgmiJq9A",
        "outputId": "c3f8fe27-5443-432c-a79b-fd616069ca3d"
      },
      "source": [
        "from collections import ChainMap        \n",
        "\n",
        "d1 = {'a':1,'c':3,'b':2} \n",
        "d2 = {'d':1,'e':5} \n",
        "\n",
        "dm = ChainMap(d1,d2)    \n",
        "dm"
      ],
      "execution_count": null,
      "outputs": [
        {
          "output_type": "execute_result",
          "data": {
            "text/plain": [
              "ChainMap({'a': 1, 'c': 3, 'b': 2}, {'d': 1, 'e': 5})"
            ]
          },
          "metadata": {
            "tags": []
          },
          "execution_count": 26
        }
      ]
    },
    {
      "cell_type": "markdown",
      "metadata": {
        "id": "_Nb92wZbKO3e"
      },
      "source": [
        "ChainMap后返回一个大dict视图，如果修改其对应键值对，原小dict也会改变："
      ]
    },
    {
      "cell_type": "code",
      "metadata": {
        "colab": {
          "base_uri": "https://localhost:8080/"
        },
        "id": "XscSssm2Jq6A",
        "outputId": "d95654e9-66fe-464b-ead2-d1c5c5c948b8"
      },
      "source": [
        "dm.maps  # 返回一个字典list     "
      ],
      "execution_count": null,
      "outputs": [
        {
          "output_type": "execute_result",
          "data": {
            "text/plain": [
              "[{'a': 1, 'b': 2, 'c': 3, 'd': 20}, {'d': 1, 'e': 5}]"
            ]
          },
          "metadata": {
            "tags": []
          },
          "execution_count": 31
        }
      ]
    },
    {
      "cell_type": "code",
      "metadata": {
        "id": "EQXC6flzJq2t"
      },
      "source": [
        "dm.maps[0]['d']=20   # 修改第一个dict的键等于'd'的值为20    "
      ],
      "execution_count": null,
      "outputs": []
    },
    {
      "cell_type": "code",
      "metadata": {
        "colab": {
          "base_uri": "https://localhost:8080/"
        },
        "id": "n2gjPaEHJq0D",
        "outputId": "511503cd-485c-4514-f8e6-7068aaead082"
      },
      "source": [
        "dm"
      ],
      "execution_count": null,
      "outputs": [
        {
          "output_type": "execute_result",
          "data": {
            "text/plain": [
              "ChainMap({'a': 1, 'c': 3, 'b': 2, 'd': 20}, {'d': 1, 'e': 5})"
            ]
          },
          "metadata": {
            "tags": []
          },
          "execution_count": 33
        }
      ]
    },
    {
      "cell_type": "code",
      "metadata": {
        "colab": {
          "base_uri": "https://localhost:8080/"
        },
        "id": "mGkaHCtOJqwX",
        "outputId": "02fa4d1a-5dbb-4f34-cf59-1406c9117340"
      },
      "source": [
        "d1 # 原小dict的键值变为20          "
      ],
      "execution_count": null,
      "outputs": [
        {
          "output_type": "execute_result",
          "data": {
            "text/plain": [
              "{'a': 1, 'b': 2, 'c': 3, 'd': 20}"
            ]
          },
          "metadata": {
            "tags": []
          },
          "execution_count": 34
        }
      ]
    },
    {
      "cell_type": "markdown",
      "metadata": {
        "id": "SlkPmH7tKcpj"
      },
      "source": [
        "**使用场景**  具体使用场景是我们有多个字典或者映射，想把它们合并成为一个单独的映射，有读者可能说可以用update进行合并，这样做的问题就是新建了一个内存结构，除了浪费空间外，还有一个缺点就是我们对新字典的更改不会同步到原字典上。\n",
        "\n",
        "**实现原理** 通过maps便能观察出ChainMap联合多个小dict装入list中，实际确实也是这样实现的，内部维护一个lis实例，其元素为小dict.\n",
        "\n",
        "**总结**\n",
        "以上就是Python常用的10种数据结构，4种常用的基本结构，6种基于它们优化的适应于特定场景的结构，对它们的学习我将它们总结为三步。\n"
      ]
    },
    {
      "cell_type": "code",
      "metadata": {
        "id": "EP_h0QZTJqtc"
      },
      "source": [
        ""
      ],
      "execution_count": null,
      "outputs": []
    }
  ]
}