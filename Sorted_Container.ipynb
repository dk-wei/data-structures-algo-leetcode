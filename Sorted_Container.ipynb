{
  "nbformat": 4,
  "nbformat_minor": 0,
  "metadata": {
    "colab": {
      "name": "Sorted Container.ipynb",
      "provenance": [],
      "authorship_tag": "ABX9TyNALN+itvSJ3G6mkgkJB4f0",
      "include_colab_link": true
    },
    "kernelspec": {
      "name": "python3",
      "display_name": "Python 3"
    },
    "language_info": {
      "name": "python"
    }
  },
  "cells": [
    {
      "cell_type": "markdown",
      "metadata": {
        "id": "view-in-github",
        "colab_type": "text"
      },
      "source": [
        "<a href=\"https://colab.research.google.com/github/dk-wei/data-structures-algo-leetcode/blob/main/Sorted_Container.ipynb\" target=\"_parent\"><img src=\"https://colab.research.google.com/assets/colab-badge.svg\" alt=\"Open In Colab\"/></a>"
      ]
    },
    {
      "cell_type": "markdown",
      "metadata": {
        "id": "_kW4vtY7T_tx"
      },
      "source": [
        "参考资料1: [Comparing Sorted Containers in Python](https://medium.com/@ssbothwell/comparing-sorted-containers-in-python-a2c41624bc84)      \n",
        "参考资料2: [Python Sorted Containers Document](http://www.grantjenks.com/docs/sortedcontainers/#quickstart)"
      ]
    },
    {
      "cell_type": "markdown",
      "metadata": {
        "id": "GgKS585VQDNU"
      },
      "source": [
        "业界的应用场景是，需要维护一个很大的表，这个表可以是`list`, `set`或者`dict`任意一种结构，需要保持一定顺序。常见的数据结构有：\n",
        "- List + sorted()*\n",
        "- Heapq**\n",
        "- Bisect\n",
        "- sortedContainer’s Sorted List\n",
        "- bintrees’ AVLTree and RBTree (Python and Cython versions)\n",
        "- My AVL Tree implementation\n",
        "\n",
        "*This will be very slow but I include it for comparison    \n",
        "\n",
        "**Heaps don’t support the full set of functions I want to test but I’ll include it for initialization and insertion tests.\n",
        "\n",
        "当表非常非常大的时候，`insert`, `update`, `remove`这样的操作就变得非常耗费资源，这时候这个`sortedcontainers`就有了用武之地。\n",
        "\n",
        "Sorted Container总共包括三大容器：\n",
        "\n",
        "- `SortedList`\n",
        "- `SortedSet`\n",
        "- `SortedDict`\n",
        "\n",
        "这三个容器是自动排序的。一旦往里面放入元素，就会自动排序。\n",
        "\n",
        "下面是一些基本操作的Benchmark([测试代码](https://gist.github.com/ssbothwell/b0669596ab3f0ebd4abd043312b442ad)):\n",
        "\n",
        "\n",
        "```\n",
        "MULTIPLE ELEMENT INSERTION (add)\n",
        "\n",
        "100000 element insertion:\n",
        "'listInsert'  172451.49 ms\n",
        "'bisectListInsert'  2001.33 ms\n",
        "'sortedListInsert'  332.90 ms\n",
        "'avlInsert'  4033.37 ms\n",
        "'bintreesAVLInsert'  3948.91 ms\n",
        "'bintreesFastAVLInsert'  3746.51 ms\n",
        "'bintreesRBInsert'  2719.18 ms\n",
        "'bintreesFastRBInsert'  2773.00 ms\n",
        "'heapInsert'  43.22 ms\n",
        "```\n",
        "\n",
        "```\n",
        "MEMBERSHIP LOOKUP (IN)\n",
        "\n",
        "1000000 element container:\n",
        "'listContains'  20.09 ms\n",
        "'bisectContains'  0.02 ms\n",
        "'sortedListContains'  0.03 ms\n",
        "'avlContains'  0.05 ms\n",
        "'bintreesAVLContains'  0.01 ms\n",
        "'bintreesFastAVLContains'  0.06 ms\n",
        "'bintreesRBContains'  0.03 ms\n",
        "'bintreesFastRBContains'  0.03 ms\n",
        "```\n",
        "\n",
        "```\n",
        "Deletion (discard)\n",
        "\n",
        "1000000 element container:\n",
        "'listDelete'  16.78 ms\n",
        "'sortedListDelete'  0.03 ms\n",
        "'avlDelete'  0.10 ms\n",
        "'bintreesAVLDelete'  0.03 ms\n",
        "'bintreesFastAVLDelete'  0.06 ms\n",
        "'bintreesRBDelete'  0.13 ms\n",
        "'bintreesFastRBDelete'  0.17 ms\n",
        "```"
      ]
    },
    {
      "cell_type": "markdown",
      "metadata": {
        "id": "ONxQdxi9h4Gd"
      },
      "source": [
        "# `SortedList` \n",
        "Sorted list is a sorted mutable sequence in which the values are maintained in sorted order.\n",
        "\n",
        "Functions to add and remove elements:\n",
        "```\n",
        "add(value) : A function that takes one element as parameter and inserts it into the list by maintaining sorted order. Runtime Complexity: O(log(n))\n",
        "\n",
        "update(iterable): A function that takes an iterable as input and updates the SortedList adding all the values from the iterable Runtime complexity: O(k*log(n)).\n",
        "\n",
        "clear(): Remove all values from sorted list. Runtime complexity: O(n).\n",
        "\n",
        "discard(value): Remove value from sorted list if it is a member. If value is not a member, do nothing. Runtime complexity: O(log(n)).\n",
        "```"
      ]
    },
    {
      "cell_type": "code",
      "metadata": {
        "colab": {
          "base_uri": "https://localhost:8080/"
        },
        "id": "nDKTZwdyTKpe",
        "outputId": "e8cf83ac-e39c-4614-f8a7-0e1b34dae7f2"
      },
      "source": [
        "# importing libraries\n",
        "from sortedcontainers import SortedList, SortedSet, SortedDict\n",
        "\n",
        "# initializing a sorted list with parameters\n",
        "# it takes an iterable as a parameter.\n",
        "sorted_list = SortedList([1, 2, 3, 4])\n",
        "\n",
        "# initializing a sorted list using default constructor\n",
        "sorted_list = SortedList()\n",
        "\n",
        "# inserting values one by one using add()\n",
        "for i in range(5, 0, -1):\n",
        "\tsorted_list.add(i)\n",
        "\n",
        "# prints the elements in sorted order\n",
        "print('list after adding 5 elements: ', sorted_list)\n",
        "\n",
        "print('list elements are: ', end = '')\n",
        "\n",
        "# iterating through a sorted list\n",
        "for i in sorted_list:\n",
        "\tprint(i, end = ' ')\n",
        "print()\n",
        "\n",
        "# removing all elements using clear()\n",
        "sorted_list.clear()\n",
        "\n",
        "# adding elements using the update() function\n",
        "elements = [10, 9, 8, 7, 6]\n",
        "\n",
        "sorted_list.update(elements)\n",
        "\n",
        "# prints the updated list in sorted order\n",
        "print('list after updating: ', sorted_list)\n",
        "\n",
        "# removing a particular element\n",
        "sorted_list.discard(8)\n",
        "\n",
        "print('list after removing one element: ', sorted_list)\n",
        "\n",
        "# removing all elements\n",
        "sorted_list.clear()\n",
        "\n",
        "print('list after removing all elements using clear: ', sorted_list)\n"
      ],
      "execution_count": 16,
      "outputs": [
        {
          "output_type": "stream",
          "text": [
            "list after adding 5 elements:  SortedList([1, 2, 3, 4, 5])\n",
            "list elements are: 1 2 3 4 5 \n",
            "list after updating:  SortedList([6, 7, 8, 9, 10])\n",
            "list after removing one element:  SortedList([6, 7, 9, 10])\n",
            "list after removing all elements using clear:  SortedList([])\n"
          ],
          "name": "stdout"
        }
      ]
    },
    {
      "cell_type": "markdown",
      "metadata": {
        "id": "wvldM7ZGiDZW"
      },
      "source": [
        "# `SortedSet` \n",
        "Sorted set is a sorted mutable set in which values are unique and maintained in sorted order. Sorted set uses a set for set-operations and maintains a sorted list of values. Sorted set values must be hashable and comparable.\n",
        "\n",
        "Functions to add and remove elements:\n",
        "```\n",
        "add(value) : A function that takes one element as parameter and inserts it into the set by maintaining sorted order. Runtime Complexity: O(log(n))\n",
        "\n",
        "clear(): Remove all values from sorted set. Runtime complexity: O(n)\n",
        "\n",
        "discard(value): Remove value from sorted set if it is a member. If value is not a member, do nothing. Runtime complexity: O(log(n))\n",
        "```"
      ]
    },
    {
      "cell_type": "code",
      "metadata": {
        "colab": {
          "base_uri": "https://localhost:8080/"
        },
        "id": "Z_LEq9fxTKmx",
        "outputId": "b6d66a71-b24e-4251-b259-3eb62e1305bd"
      },
      "source": [
        "# importing libraries\n",
        "from sortedcontainers import SortedList, SortedSet, SortedDict\n",
        "\n",
        "# initializing a sorted set with parameters\n",
        "# it takes an iterable as an argument\n",
        "sorted_set = SortedSet([1, 1, 2, 3, 4])\n",
        "\n",
        "# initializing a sorted set using default constructor\n",
        "sorted_set = SortedSet()\n",
        "\n",
        "# inserting values one by one\n",
        "for i in range(5, 0, -1):\n",
        "\tsorted_set.add(i)\n",
        "\n",
        "print('set after adding elements: ', sorted_set)\n",
        "\n",
        "# inserting duplicate value\n",
        "sorted_set.add(5)\n",
        "\n",
        "print('set after inserting duplicate element: ', sorted_set)\n",
        "\n",
        "# discarding an element\n",
        "sorted_set.discard(4)\n",
        "\n",
        "print('set after discarding: ', sorted_set)\n",
        "\n",
        "# checking membership using 'in' operator\n",
        "if(2 in sorted_set):\n",
        "\tprint('2 is present')\n",
        "else:\n",
        "\tprint('2 is not present')\n",
        "\n",
        "print('set elements are: ', end = '')\n",
        "\n",
        "# iterating through a sorted set\n",
        "for i in sorted_set:\n",
        "\tprint(i, end = ' ')\n",
        "print()\n"
      ],
      "execution_count": 17,
      "outputs": [
        {
          "output_type": "stream",
          "text": [
            "set after adding elements:  SortedSet([1, 2, 3, 4, 5])\n",
            "set after inserting duplicate element:  SortedSet([1, 2, 3, 4, 5])\n",
            "set after discarding:  SortedSet([1, 2, 3, 5])\n",
            "2 is present\n",
            "set elements are: 1 2 3 5 \n"
          ],
          "name": "stdout"
        }
      ]
    },
    {
      "cell_type": "markdown",
      "metadata": {
        "id": "mQRLzZVgiS0B"
      },
      "source": [
        "# `SortedDict` \n",
        "Sorted dict is a sorted mutable mapping in which keys are maintained in sorted order. Sorted dict inherits from dict to store items and maintains a sorted list of keys. Sorted dict keys must be hashable and comparable.\n",
        "\n",
        "Functions to add and remove elements:\n",
        "```\n",
        "setdefault(key, default = None) : Return value for item identified by key in sorted dict. If key is in the sorted dict then return its value. If key is not in the sorted dict then insert key with value default and return default. Runtime Complexity: O(log(n))\n",
        "\n",
        "clear(): Remove all values from sorted dict. Runtime complexity: O(n)\n",
        "\n",
        "get(key, default): Return the value for key if key is in the dictionary, else default.\n",
        "```"
      ]
    },
    {
      "cell_type": "code",
      "metadata": {
        "colab": {
          "base_uri": "https://localhost:8080/"
        },
        "id": "4IT7zIlEI89l",
        "outputId": "a184309c-6791-445a-f58e-749ecdd78a9e"
      },
      "source": [
        "# importing libraries\n",
        "from sortedcontainers import SortedList, SortedSet, SortedDict\n",
        "\n",
        "# initializing a sorted dict with parameters\n",
        "# it takes a dictionary object as a parameter\n",
        "sorted_dict = SortedDict({'a': 1, 'b': 2, 'c': 3})\n",
        "\n",
        "# initializing a sorted dict\n",
        "sorted_dict = SortedDict({'a': 1, 'c': 2, 'b':3})\n",
        "\n",
        "# print the dict\n",
        "print('sorted dict is: ', sorted_dict)\n",
        "\n",
        "# adding key => value pairs\n",
        "sorted_dict['d'] = 3\n",
        "\n",
        "print('sorted dict after adding an element: ', sorted_dict)\n",
        "\n",
        "# adding element using setdefault()\n",
        "sorted_dict.setdefault('e', 4)\n",
        "\n",
        "print('sorted dict after setdefault(): ', sorted_dict)\n",
        "\n",
        "# using the get function\n",
        "print('using the get function to print the value of a: ', sorted_dict.get('a', 0))\n",
        "\n",
        "# checking membership using 'in' operator\n",
        "if('a' in sorted_dict):\n",
        "\tprint('a is present')\n",
        "else:\n",
        "\tprint('a is not present')\n",
        "\n",
        "print('dict elements are: ', end = '')\n",
        "\n",
        "# iterating over key => value pairs in a dictionary\n",
        "for key in sorted_dict:\n",
        "\tprint('{} -> {}'.format(key, sorted_dict[key]), end = ' ')\n",
        "print()\n",
        "\n",
        "# removing all elements from the dict\n",
        "sorted_dict.clear()\n",
        "\n",
        "print('sorted dict after removing all elements: ', sorted_dict)"
      ],
      "execution_count": 18,
      "outputs": [
        {
          "output_type": "stream",
          "text": [
            "sorted dict is:  SortedDict({'a': 1, 'b': 3, 'c': 2})\n",
            "sorted dict after adding an element:  SortedDict({'a': 1, 'b': 3, 'c': 2, 'd': 3})\n",
            "sorted dict after setdefault():  SortedDict({'a': 1, 'b': 3, 'c': 2, 'd': 3, 'e': 4})\n",
            "using the get function to print the value of a:  1\n",
            "a is present\n",
            "dict elements are: a -> 1 b -> 3 c -> 2 d -> 3 e -> 4 \n",
            "sorted dict after removing all elements:  SortedDict({})\n"
          ],
          "name": "stdout"
        }
      ]
    },
    {
      "cell_type": "code",
      "metadata": {
        "id": "zMuJMCUVKgWy"
      },
      "source": [
        ""
      ],
      "execution_count": null,
      "outputs": []
    },
    {
      "cell_type": "code",
      "metadata": {
        "id": "KPhIvvHUKgT_"
      },
      "source": [
        ""
      ],
      "execution_count": null,
      "outputs": []
    },
    {
      "cell_type": "code",
      "metadata": {
        "id": "07tMMImUKf7G"
      },
      "source": [
        ""
      ],
      "execution_count": 5,
      "outputs": []
    }
  ]
}